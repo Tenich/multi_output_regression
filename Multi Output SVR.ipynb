{
 "cells": [
  {
   "cell_type": "code",
   "execution_count": 1,
   "metadata": {},
   "outputs": [
    {
     "name": "stdout",
     "output_type": "stream",
     "text": [
      "Populating the interactive namespace from numpy and matplotlib\n"
     ]
    }
   ],
   "source": [
    "%pylab inline"
   ]
  },
  {
   "cell_type": "code",
   "execution_count": 2,
   "metadata": {
    "collapsed": true
   },
   "outputs": [],
   "source": [
    "from sklearn.base import BaseEstimator\n",
    "from sklearn.metrics.pairwise import pairwise_kernels\n",
    "\n",
    "class MLS_SVR(BaseEstimator):\n",
    "    \n",
    "    def __init__(self, gamma, lamb, kernel):\n",
    "        self.gamma, self.lamb, self.kernel = gamma, lamb, kernel\n",
    "\n",
    "    def fit(self, X, y):\n",
    "        n, m = y.shape\n",
    "        K = pairwise_kernels(X, metric = self.kernel)\n",
    "        H = np.matlib.repmat(K, m, m) + np.eye(n * m) / self.gamma\n",
    "\n",
    "        P = np.zeros((m * n, m))\n",
    "        for i in range(m):\n",
    "            j1, j2 = n*i, n*(i+1)\n",
    "            H[j1:j2, j1:j2] += K * (m / self.lamb)\n",
    "            P[j1:j2, i] = 1\n",
    "\n",
    "        eta = np.linalg.lstsq(H, P)[0]\n",
    "        nu = np.linalg.lstsq(H, y.reshape(-1, 1))[0]\n",
    "\n",
    "        S = P.T @ eta\n",
    "        self.b = np.linalg.inv(S) @ eta.T @ y.reshape(-1, 1)\n",
    "        self.alpha = (nu - eta @ self.b).reshape(n, m)\n",
    "        \n",
    "        \n",
    "        self.X_train = X\n",
    "        self.m = m\n",
    "\n",
    "    def predict(self, X):\n",
    "        n, m = X.shape[0], self.m\n",
    "        \n",
    "        K = pairwise_kernels(X, self.X_train, metric = self.kernel)\n",
    "        return np.matlib.repmat(np.sum(K@self.alpha, axis=1).reshape(-1, 1), 1, m) + (K @ self.alpha) *(m/self.lamb) + np.matlib.repmat(self.b.reshape(1, -1), n, 1)"
   ]
  },
  {
   "cell_type": "code",
   "execution_count": 3,
   "metadata": {
    "collapsed": true
   },
   "outputs": [],
   "source": [
    "from sklearn.model_selection import KFold\n",
    "from sklearn.model_selection import cross_val_score\n",
    "\n",
    "def rmse(model):\n",
    "    return np.sqrt(-np.mean(cross_val_score(model, X, y, cv=CV, scoring=\"neg_mean_squared_error\")))\n",
    "\n",
    "CV = KFold(n_splits=3, shuffle=True, random_state=1234)"
   ]
  },
  {
   "cell_type": "code",
   "execution_count": null,
   "metadata": {},
   "outputs": [
    {
     "name": "stdout",
     "output_type": "stream",
     "text": [
      "dataset :  online_sales  . X shape :  (751, 1813)  . y shape :  (751, 12)\n",
      "........\t Sklearn SVR: 18593.231707\n",
      "...."
     ]
    }
   ],
   "source": [
    "from sklearn.svm import LinearSVR\n",
    "from sklearn.multioutput import MultiOutputRegressor\n",
    "\n",
    "from datasets import get_datasets\n",
    "datasets = get_datasets()\n",
    "\n",
    "\n",
    "\n",
    "for name in datasets.keys():\n",
    "    X, y = datasets[name]\n",
    "    print(\"dataset : \", name, \" . X shape : \", X.shape, \" . y shape : \", y.shape)\n",
    "    \n",
    "    sksvr = []\n",
    "    for C in [1e-3, 1e-2, 1e-2, 1, 10, 100, 1000, 10000]:\n",
    "        print('.', end='')\n",
    "        regr = MultiOutputRegressor(LinearSVR(C=C))\n",
    "        sksvr.append(rmse(regr))\n",
    "    print(\"\\t Sklearn SVR:\", np.amin(sksvr))\n",
    "\n",
    "    mlssvr = []\n",
    "    for gamma in [1e-3, 1e-2, 1e-1]:\n",
    "        for lamb in [1, 10, 100]:\n",
    "            print('.', end='')\n",
    "            regr = MLS_SVR(gamma, lamb, \"linear\")\n",
    "            mlssvr.append(rmse(regr))\n",
    "            \n",
    "    print(\"\\t MLS_SVR:\", np.amin(mlssvr))"
   ]
  }
 ],
 "metadata": {
  "kernelspec": {
   "display_name": "Python 3",
   "language": "python",
   "name": "python3"
  },
  "language_info": {
   "codemirror_mode": {
    "name": "ipython",
    "version": 3
   },
   "file_extension": ".py",
   "mimetype": "text/x-python",
   "name": "python",
   "nbconvert_exporter": "python",
   "pygments_lexer": "ipython3",
   "version": "3.6.1"
  }
 },
 "nbformat": 4,
 "nbformat_minor": 2
}
