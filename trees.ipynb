{
 "cells": [
  {
   "cell_type": "code",
   "execution_count": null,
   "metadata": {},
   "outputs": [],
   "source": [
    "import numpy as np\n",
    "import pandas as pd\n",
    "\n",
    "from sklearn.model_selection import KFold, cross_val_score\n",
    "from sklearn.tree import DecisionTreeRegressor\n",
    "from sklearn.ensemble import BaggingRegressor\n",
    "from sklearn.multioutput import MultiOutputRegressor\n",
    "\n",
    "from datasets import get_datasets\n",
    "from multioutput_ensemble import MultiOutputBaggingRegressor\n",
    "\n",
    "from tqdm import tqdm_notebook"
   ]
  },
  {
   "cell_type": "code",
   "execution_count": null,
   "metadata": {},
   "outputs": [],
   "source": [
    "CV = KFold(n_splits=3, shuffle=True, random_state=1234)\n",
    "def rmse(model, X, y):\n",
    "    return np.sqrt(-np.mean(cross_val_score(model, X, y, cv=CV, scoring=\"neg_mean_squared_error\", n_jobs=3)))"
   ]
  },
  {
   "cell_type": "code",
   "execution_count": null,
   "metadata": {},
   "outputs": [],
   "source": [
    "datasets = get_datasets()"
   ]
  },
  {
   "cell_type": "code",
   "execution_count": null,
   "metadata": {},
   "outputs": [],
   "source": [
    "datasets.keys()"
   ]
  },
  {
   "cell_type": "code",
   "execution_count": null,
   "metadata": {},
   "outputs": [],
   "source": [
    "tmp = pd.DataFrame(columns=names, index=depth_vals)"
   ]
  },
  {
   "cell_type": "code",
   "execution_count": null,
   "metadata": {},
   "outputs": [],
   "source": [
    "scores = {}\n",
    "\n",
    "depth_vals = np.arange(1, 21)\n",
    "\n",
    "names = ['Single_Tree', 'Multi_Tree', \n",
    "         'Single_Bagging_10', 'Single_Bagging_100', 'Single_Bagging_1000',\n",
    "         'Multi_Bagging_10', 'Multi_Bagging_100', 'Multi_Bagging_1000']\n",
    "\n",
    "for dataset_name, (X, y) in tqdm_notebook(datasets.items(), total=len(datasets)):\n",
    "    cur_scores = pd.DataFrame(columns=names, index=depth_vals)\n",
    "    \n",
    "    \n",
    "    \n",
    "    for depth in depth_vals:\n",
    "        models = [MultiOutputRegressor(DecisionTreeRegressor(max_depth=depth)),\n",
    "                  DecisionTreeRegressor(max_depth=depth),\n",
    "                  MultiOutputRegressor(BaggingRegressor(DecisionTreeRegressor(max_depth=depth), n_estimators=10)),\n",
    "                  MultiOutputRegressor(BaggingRegressor(DecisionTreeRegressor(max_depth=depth), n_estimators=100)),\n",
    "                  MultiOutputRegressor(BaggingRegressor(DecisionTreeRegressor(max_depth=depth), n_estimators=1000)),\n",
    "                  MultiOutputBaggingRegressor(DecisionTreeRegressor(max_depth=depth), n_estimators=10),\n",
    "                  MultiOutputBaggingRegressor(DecisionTreeRegressor(max_depth=depth), n_estimators=100),\n",
    "                  MultiOutputBaggingRegressor(DecisionTreeRegressor(max_depth=depth), n_estimators=1000)]\n",
    "        \n",
    "        depth_scores = []\n",
    "        for model_name, model in zip(names, models):\n",
    "            cur_score = rmse(model, X, y)\n",
    "            depth_scores.append(cur_score)\n",
    "            print('{} depth = {} rmse = {}'.format(model_name, depth, cur_score))\n",
    "        cur_scores.loc[depth] = depth_scores\n",
    "        \n",
    "    scores[dataset_name] = cur_scores"
   ]
  }
 ],
 "metadata": {
  "kernelspec": {
   "display_name": "Python 3",
   "language": "python",
   "name": "python3"
  },
  "language_info": {
   "codemirror_mode": {
    "name": "ipython",
    "version": 3
   },
   "file_extension": ".py",
   "mimetype": "text/x-python",
   "name": "python",
   "nbconvert_exporter": "python",
   "pygments_lexer": "ipython3",
   "version": "3.6.4"
  }
 },
 "nbformat": 4,
 "nbformat_minor": 2
}
