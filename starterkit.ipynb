{
 "cells": [
  {
   "cell_type": "code",
   "execution_count": 1,
   "metadata": {},
   "outputs": [],
   "source": [
    "import numpy as np\n",
    "\n",
    "from sklearn.model_selection import KFold, cross_val_score\n",
    "from sklearn.tree import DecisionTreeRegressor\n",
    "from sklearn.ensemble import BaggingRegressor\n",
    "from sklearn.multioutput import MultiOutputRegressor\n",
    "\n",
    "from datasets import get_datasets\n",
    "from multioutput_ensemble import MultiOutputBaggingRegressor"
   ]
  },
  {
   "cell_type": "code",
   "execution_count": 2,
   "metadata": {},
   "outputs": [],
   "source": [
    "def rmse(model):\n",
    "    return np.sqrt(-np.mean(cross_val_score(model, X, y, cv=CV, scoring=\"neg_mean_squared_error\", n_jobs=3)))"
   ]
  },
  {
   "cell_type": "code",
   "execution_count": 7,
   "metadata": {},
   "outputs": [],
   "source": [
    "CV = KFold(n_splits=3, shuffle=True, random_state=1234)"
   ]
  },
  {
   "cell_type": "code",
   "execution_count": 3,
   "metadata": {},
   "outputs": [],
   "source": [
    "datasets = get_datasets()"
   ]
  },
  {
   "cell_type": "code",
   "execution_count": 4,
   "metadata": {},
   "outputs": [
    {
     "data": {
      "text/plain": [
       "dict_keys(['online_sales', 'atp1d', 'atp7d', 'oes97', 'oes10', 'rf1', 'rf2', 'scm1d', 'scm20d', 'edm', 'sf1', 'sf2', 'jura', 'wq', 'enb', 'slump', 'andro', 'osales', 'scfp'])"
      ]
     },
     "execution_count": 4,
     "metadata": {},
     "output_type": "execute_result"
    }
   ],
   "source": [
    "datasets.keys()"
   ]
  },
  {
   "cell_type": "code",
   "execution_count": 6,
   "metadata": {},
   "outputs": [
    {
     "data": {
      "text/plain": [
       "((9125, 64), (9125, 8))"
      ]
     },
     "execution_count": 6,
     "metadata": {},
     "output_type": "execute_result"
    }
   ],
   "source": [
    "X, y = datasets['rf1']\n",
    "X.shape, y.shape"
   ]
  },
  {
   "cell_type": "code",
   "execution_count": null,
   "metadata": {},
   "outputs": [],
   "source": [
    "# for depth in range(1, 21):\n",
    "#     model = MultiOutputRegressor(DecisionTreeRegressor(max_depth=depth))\n",
    "#     print(depth, rmse(model))"
   ]
  },
  {
   "cell_type": "code",
   "execution_count": null,
   "metadata": {},
   "outputs": [],
   "source": [
    "# for depth in range(1, 21):\n",
    "#     model = DecisionTreeRegressor(max_depth=depth)\n",
    "#     print(depth, rmse(model))"
   ]
  },
  {
   "cell_type": "code",
   "execution_count": null,
   "metadata": {},
   "outputs": [],
   "source": [
    "# for depth in range(1, 21):\n",
    "#     model = MultiOutputRegressor(BaggingRegressor(DecisionTreeRegressor(max_depth=depth)), n_estimators=1000)\n",
    "#     print(depth, rmse(model))"
   ]
  },
  {
   "cell_type": "code",
   "execution_count": null,
   "metadata": {},
   "outputs": [],
   "source": [
    "# for depth in range(1, 21):\n",
    "#     model = MultiOutputBaggingRegressor(DecisionTreeRegressor(max_depth=depth), n_estimators=1000)\n",
    "#     print(depth, rmse(model))"
   ]
  }
 ],
 "metadata": {
  "kernelspec": {
   "display_name": "Python 3",
   "language": "python",
   "name": "python3"
  },
  "language_info": {
   "codemirror_mode": {
    "name": "ipython",
    "version": 3
   },
   "file_extension": ".py",
   "mimetype": "text/x-python",
   "name": "python",
   "nbconvert_exporter": "python",
   "pygments_lexer": "ipython3",
   "version": "3.6.4"
  }
 },
 "nbformat": 4,
 "nbformat_minor": 2
}
